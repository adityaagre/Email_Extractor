{
 "cells": [
  {
   "cell_type": "code",
   "execution_count": 1,
   "id": "839f241e",
   "metadata": {},
   "outputs": [
    {
     "name": "stdout",
     "output_type": "stream",
     "text": [
      "content='sarah.jones45@gmail.com, john.smith78@yahoo.com, emily.wilson33@hotmail.com, david.brown22@gmail.com, lisa.miller89@yahoo.com, kevin.jones56@hotmail.com, jennifer.white77@gmail.com, michael.davis44@yahoo.com, laura.thomas66@hotmail.com, chris.wilson55@gmail.com, amanda.johnson23@yahoo.com, matthew.baker87@hotmail.com, jessica.williams34@gmail.com, ryan.martin76@yahoo.com, nicole.anderson45@hotmail.com, eric.johnson67@gmail.com, samantha.taylor88@yahoo.com, jason.roberts32@hotmail.com, melissa.jones54@gmail.com, brian.smith78@yahoo.com, ashley.wilson21@hotmail.com, daniel.thomas43@gmail.com, michelle.brown65@yahoo.com, justin.miller98@hotmail.com, stephanie.davis76@gmail.com, patrick.jones22@yahoo.com, tiffany.wilson33@hotmail.com, brandon.martin44@gmail.com, heather.anderson55@yahoo.com, aaron.johnson66@hotmail.com, kayla.baker77@gmail.com, nathan.williams88@yahoo.com, christina.roberts99@hotmail.com, jacob.johnson23@gmail.com, kelly.martin45@yahoo.com, jordan.thomas67@hotmail.com, lauren.jones89@gmail.com, tyler.smith32@yahoo.com, amanda.wilson54@hotmail.com, zachary.davis76@gmail.com, brittany.taylor21@yahoo.com, cody.roberts43@hotmail.com, alexis.jones65@gmail.com, derek.brown98@yahoo.com, courtney.miller76@hotmail.com, travis.williams22@gmail.com' response_metadata={'finish_reason': 'stop', 'logprobs': None}\n"
     ]
    }
   ],
   "source": [
    "## imports\n",
    "import re\n",
    "import pandas as pd\n",
    "import ast\n",
    "from langchain.chat_models import ChatOpenAI\n",
    "from langchain import PromptTemplate, LLMChain\n",
    "#from langchain_community.vectorstores import FAISS\n",
    "import openai\n",
    "import os\n",
    "from langchain_openai import ChatOpenAI\n",
    "from dotenv import load_dotenv\n",
    "from langchain.agents import Tool\n",
    "#import pypdf\n",
    "from langchain.document_loaders import PyPDFLoader\n",
    "from langchain.document_loaders import UnstructuredHTMLLoader\n",
    "from langchain.embeddings import OpenAIEmbeddings\n",
    "from langchain.vectorstores import FAISS\n",
    "from langchain.chains import RetrievalQA\n",
    "from langchain import OpenAI, ConversationChain\n",
    "from langchain.agents import initialize_agent\n",
    "from langchain.chains.conversation.memory import ConversationBufferWindowMemory\n",
    "#from langchain.agents.agent_toolkits.conversational_retrieval.tool import create_retriever_tool\n",
    "from signal import signal, SIGALRM, alarm\n",
    "#from flask import Flask, render_template, request, jsonify\n",
    "\n",
    "##################################################################################\n",
    "## Environment veriables, API Keys, etc\n",
    "load_dotenv()\n",
    "openai.api_key = os.getenv(\"OPENAI_API_KEY\")\n",
    "##################################################################################\n",
    "\n",
    "##################################################################################\n",
    "# making llm object\n",
    "llm = ChatOpenAI(temperature=0, verbose=False)\n",
    "\n"
   ]
  },
  {
   "cell_type": "code",
   "execution_count": 5,
   "id": "0f95774c",
   "metadata": {},
   "outputs": [
    {
     "name": "stdout",
     "output_type": "stream",
     "text": [
      "johndoe123@gmail.com, sarahsmith456@yahoo.com, mikejones789@hotmail.com, emilybrown321@gmail.com, alexwilson555@yahoo.com, lisajackson777@hotmail.com, kevinmiller999@gmail.com, rachelgreen123@yahoo.com, chrisbrown456@hotmail.com, amandajones789@gmail.com, jasonwhite555@yahoo.com, sandrabrown777@hotmail.com, ericthomas999@gmail.com, laurawilson123@yahoo.com, matthewjones456@hotmail.com, jessicasmith789@gmail.com, davidmiller555@yahoo.com, michellebrown777@hotmail.com, brianjohnson999@gmail.com, ashleywilson123@yahoo.com, patrickjones456@hotmail.com, samanthasmith789@gmail.com, robertmiller555@yahoo.com, christinabrown777@hotmail.com, danieljohnson999@gmail.com, melissawilson123@yahoo.com, justinjones456@hotmail.com, ameliasmith789@gmail.com, stevenmiller555@yahoo.com, kellybrown777@hotmail.com\n"
     ]
    }
   ],
   "source": [
    "ans1 = llm.invoke(\"Generate 50 sample email ids. return them as comma seperated values. output only the emails with commas like 'amit_kumar92@gmail.com, alka.yagnik@yahoo.co.uk, therealsteven@hotmail.com'\")\n",
    "print(ans1.content)"
   ]
  },
  {
   "cell_type": "code",
   "execution_count": 12,
   "id": "0532dc54",
   "metadata": {},
   "outputs": [
    {
     "data": {
      "text/plain": [
       "AIMessage(content='aliyahkhan123@gmail.com, yasminahmed456@yahoo.com, mohammedali789@hotmail.com, priyasharma321@gmail.com, ananyasingh555@yahoo.com, aaravpatel777@hotmail.com, ishanagupta999@gmail.com, aishwaryarao123@yahoo.com, arjunmehta456@hotmail.com, nehapatel789@gmail.com, vishalkumar555@yahoo.com, priyankasingh777@hotmail.com, adityashah999@gmail.com, meenakshisingh123@yahoo.com, rajeshmehta456@hotmail.com, anushkasharma789@gmail.com, devendrasingh555@yahoo.com, nandinigupta777@hotmail.com, rajeevkumar999@gmail.com, priyankawalia123@yahoo.com, rahulsharma456@hotmail.com, ananyasingh789@gmail.com, vikasmittal555@yahoo.com, priyankagupta777@hotmail.com, amitjoshi999@gmail.com, priyankamehta123@yahoo.com, rishabhjain456@hotmail.com, aarohisingh789@gmail.com, akashmishra555@yahoo.com, priyankapatel777@hotmail.com', response_metadata={'finish_reason': 'stop', 'logprobs': None})"
      ]
     },
     "execution_count": 12,
     "metadata": {},
     "output_type": "execute_result"
    }
   ],
   "source": [
    "ans2 = llm.invoke(\"Look at the following list of email ids : \" + ans1.content + \" As, you can see, all these email ids have western names only. Replace these email ids wit different multicultural names. Return all the email ids as comma seperated values.'\")\n",
    "ans2"
   ]
  },
  {
   "cell_type": "code",
   "execution_count": 13,
   "id": "42b78e34",
   "metadata": {},
   "outputs": [
    {
     "data": {
      "text/plain": [
       "'aliyahkhan123@gmail.com, yasminahmed456@yahoo.com, mohammedali789@hotmail.com, priyasharma321@gmail.com, ananyasingh555@yahoo.com, aaravpatel777@hotmail.com, ishanagupta999@gmail.com, aishwaryarao123@yahoo.com, arjunmehta456@hotmail.com, nehapatel789@gmail.com, vishalkumar555@yahoo.com, priyankasingh777@hotmail.com, adityashah999@gmail.com, meenakshisingh123@yahoo.com, rajeshmehta456@hotmail.com, anushkasharma789@gmail.com, devendrasingh555@yahoo.com, nandinigupta777@hotmail.com, rajeevkumar999@gmail.com, priyankawalia123@yahoo.com, rahulsharma456@hotmail.com, ananyasingh789@gmail.com, vikasmittal555@yahoo.com, priyankagupta777@hotmail.com, amitjoshi999@gmail.com, priyankamehta123@yahoo.com, rishabhjain456@hotmail.com, aarohisingh789@gmail.com, akashmishra555@yahoo.com, priyankapatel777@hotmail.com'"
      ]
     },
     "execution_count": 13,
     "metadata": {},
     "output_type": "execute_result"
    }
   ],
   "source": [
    "ans2.content"
   ]
  },
  {
   "cell_type": "code",
   "execution_count": 18,
   "id": "5f63be93",
   "metadata": {},
   "outputs": [],
   "source": [
    "ans3  = llm.invoke(\"Look at the following email ids: \"+ans2.content+\" Now, replace the numbers in these email ids with random numbers (like 174 or 530 or 661 or 000 0r 109). make sure to return all email ids as comma seperated values\")"
   ]
  },
  {
   "cell_type": "code",
   "execution_count": 19,
   "id": "40f7da0a",
   "metadata": {},
   "outputs": [
    {
     "data": {
      "text/plain": [
       "'aliyahkhan174@gmail.com, yasminahmed530@yahoo.com, mohammedali661@hotmail.com, priyasharma000@gmail.com, ananyasingh109@yahoo.com, aaravpatel215@hotmail.com, ishanagupta777@gmail.com, aishwaryarao333@yahoo.com, arjunmehta444@hotmail.com, nehapatel555@gmail.com, vishalkumar666@yahoo.com, priyankasingh777@hotmail.com, adityashah888@gmail.com, meenakshisingh222@yahoo.com, rajeshmehta456@hotmail.com, anushkasharma789@gmail.com, devendrasingh555@yahoo.com, nandinigupta777@hotmail.com, rajeevkumar999@gmail.com, priyankawalia123@yahoo.com, rahulsharma456@hotmail.com, ananyasingh789@gmail.com, vikasmittal555@yahoo.com, priyankagupta777@hotmail.com, amitjoshi999@gmail.com, priyankamehta123@yahoo.com, rishabhjain456@hotmail.com, aarohisingh789@gmail.com, akashmishra555@yahoo.com, priyankapatel777@hotmail.com'"
      ]
     },
     "execution_count": 19,
     "metadata": {},
     "output_type": "execute_result"
    }
   ],
   "source": [
    "ans3.content"
   ]
  },
  {
   "cell_type": "code",
   "execution_count": null,
   "id": "bd92c352",
   "metadata": {},
   "outputs": [],
   "source": []
  }
 ],
 "metadata": {
  "kernelspec": {
   "display_name": "Python 3 (ipykernel)",
   "language": "python",
   "name": "python3"
  },
  "language_info": {
   "codemirror_mode": {
    "name": "ipython",
    "version": 3
   },
   "file_extension": ".py",
   "mimetype": "text/x-python",
   "name": "python",
   "nbconvert_exporter": "python",
   "pygments_lexer": "ipython3",
   "version": "3.11.5"
  }
 },
 "nbformat": 4,
 "nbformat_minor": 5
}
